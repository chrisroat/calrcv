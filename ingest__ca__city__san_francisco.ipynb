{
 "cells": [
  {
   "cell_type": "code",
   "execution_count": 1,
   "id": "9b7b80fc",
   "metadata": {},
   "outputs": [],
   "source": [
    "import os\n",
    "import json\n",
    "from pathlib import Path\n",
    "import numpy as np\n",
    "import pandas as pd\n",
    "import zipfile"
   ]
  },
  {
   "cell_type": "code",
   "execution_count": 2,
   "id": "6ebf1e57-8214-4e06-baba-ca027e7f18cd",
   "metadata": {},
   "outputs": [],
   "source": [
    "election_path = \"2020/ca/city/san_francisco\"\n",
    "election_kind = \"general\""
   ]
  },
  {
   "cell_type": "code",
   "execution_count": 3,
   "id": "a67bad74",
   "metadata": {},
   "outputs": [
    {
     "name": "stdout",
     "output_type": "stream",
     "text": [
      "0 of 24956\n",
      "1000 of 24956\n",
      "2000 of 24956\n",
      "3000 of 24956\n",
      "4000 of 24956\n",
      "5000 of 24956\n",
      "6000 of 24956\n",
      "7000 of 24956\n",
      "8000 of 24956\n",
      "9000 of 24956\n",
      "10000 of 24956\n",
      "11000 of 24956\n",
      "12000 of 24956\n",
      "13000 of 24956\n",
      "14000 of 24956\n",
      "15000 of 24956\n",
      "16000 of 24956\n",
      "17000 of 24956\n",
      "18000 of 24956\n",
      "19000 of 24956\n",
      "20000 of 24956\n",
      "21000 of 24956\n",
      "22000 of 24956\n",
      "23000 of 24956\n",
      "24000 of 24956\n",
      "CPU times: user 2min 22s, sys: 3.52 s, total: 2min 25s\n",
      "Wall time: 2min 45s\n"
     ]
    }
   ],
   "source": [
    "%%time\n",
    "\n",
    "input_filename = f\"data_raw/{election_path}/{election_kind}/CVR_Export_20201201091840.zip\"\n",
    "election_basename = election_path.replace(\"/\", \"__\") + f\"__{election_kind}\"\n",
    "output_dirname = f\"data_processed/{election_path}/{election_basename}\"\n",
    "\n",
    "with zipfile.ZipFile(input_filename, \"r\") as zip_file:\n",
    "\n",
    "    with zip_file.open(\"ContestManifest.json\") as contest_manifest:\n",
    "        contest_data = json.load(contest_manifest)\n",
    "\n",
    "    with zip_file.open(\"CandidateManifest.json\") as candidate_manifest:\n",
    "        candidate_data = json.load(candidate_manifest)\n",
    "    \n",
    "    mark_data = []\n",
    "    ballot_contest_id = 0\n",
    "    total = len(zip_file.filelist)\n",
    "    for idx, zip_info in enumerate(zip_file.filelist):\n",
    "        \n",
    "        if idx % 1000 == 0:\n",
    "            print(idx, 'of', total)\n",
    "            \n",
    "        if not zip_info.filename.startswith('CvrExport_'):\n",
    "            continue\n",
    "            \n",
    "        with zip_file.open(zip_info) as cvr_export:\n",
    "            data = json.load(cvr_export)\n",
    "            \n",
    "        for sess in data['Sessions']:\n",
    "            orig = sess[\"Original\"]\n",
    "            for card in orig['Cards']:\n",
    "                for contest in card['Contests']:\n",
    "                    contest_id = contest['Id']\n",
    "                    for mark in contest['Marks']:\n",
    "                        mark_data.append([\n",
    "                            zip_info.filename, \n",
    "                             ballot_contest_id, \n",
    "                             contest_id,\n",
    "                             mark['CandidateId'], \n",
    "                             mark['Rank'], \n",
    "                             mark['IsVote'], \n",
    "                            mark['IsAmbiguous']\n",
    "                        ])\n",
    "                    ballot_contest_id += 1"
   ]
  },
  {
   "cell_type": "code",
   "execution_count": 4,
   "id": "ba164ff1-bdf5-4cc6-88ea-d8a33ded3713",
   "metadata": {},
   "outputs": [
    {
     "name": "stdout",
     "output_type": "stream",
     "text": [
      "CPU times: user 24.8 s, sys: 5.86 s, total: 30.7 s\n",
      "Wall time: 34 s\n"
     ]
    }
   ],
   "source": [
    "%%time\n",
    "\n",
    "df_contests = pd.json_normalize(contest_data, record_path=[\"List\"])\n",
    "df_contests = df_contests.rename(columns={'Id': 'contest_id'})\n",
    "df_contests = df_contests.set_index('contest_id').sort_index()\n",
    "\n",
    "df_candidates = pd.json_normalize(candidate_data, record_path=[\"List\"])\n",
    "df_candidates = df_candidates.rename(columns={'Id': 'candidate_id'})\n",
    "df_candidates = df_candidates.set_index('candidate_id').sort_index()\n",
    "\n",
    "columns = [\n",
    "    'filename', \n",
    "    'ballot_contest_id', \n",
    "    'contest_id', \n",
    "    'candidate_id', \n",
    "    'rank', \n",
    "    'is_vote', \n",
    "    'is_ambiguous'\n",
    "]\n",
    "\n",
    "df_marks = pd.DataFrame(mark_data, columns=columns)\n",
    "dtypes = {\n",
    "    'filename': 'category',\n",
    "    'rank': np.int8,\n",
    "}\n",
    "df_marks = df_marks.astype(dtypes)\n",
    "df_marks = df_marks.set_index(['contest_id', 'ballot_contest_id', 'candidate_id']).sort_index()"
   ]
  },
  {
   "cell_type": "code",
   "execution_count": 5,
   "id": "b9934541-f31d-4a57-9cd3-95359083502f",
   "metadata": {},
   "outputs": [],
   "source": [
    "os.makedirs(output_dirname, exist_ok=True)\n",
    "df_marks.to_parquet(f\"{output_dirname}/marks.pq\")\n",
    "df_contests.to_parquet(f\"{output_dirname}/contests.pq\")\n",
    "df_candidates.to_parquet(f\"{output_dirname}/candidates.pq\")"
   ]
  },
  {
   "cell_type": "code",
   "execution_count": null,
   "id": "374e891f-ba83-44ec-85bf-42d0a052d1e0",
   "metadata": {},
   "outputs": [],
   "source": []
  }
 ],
 "metadata": {
  "kernelspec": {
   "display_name": "Python 3 (ipykernel)",
   "language": "python",
   "name": "python3"
  },
  "language_info": {
   "codemirror_mode": {
    "name": "ipython",
    "version": 3
   },
   "file_extension": ".py",
   "mimetype": "text/x-python",
   "name": "python",
   "nbconvert_exporter": "python",
   "pygments_lexer": "ipython3",
   "version": "3.8.12"
  }
 },
 "nbformat": 4,
 "nbformat_minor": 5
}
